{
 "cells": [
  {
   "cell_type": "markdown",
   "metadata": {},
   "source": [
    "# Árboles de decisión."
   ]
  },
  {
   "cell_type": "markdown",
   "metadata": {},
   "source": [
    "Un árbol de decisión es un predictor, $h: X \\longrightarrow Y$, que predice la etiqueta asociada con una instancia $x$ viajando desde un nodo raíz de un árbol a una hoja (este es un algoritmo de clasificación, por lo que $Y \\subset \\mathbb{N}$). Para explicar un ejemplo simple, nos centramos en la  clasificación binaria, a saber, $Y = \\{0, 1\\}$, pero los árboles de decisión también se pueden aplicar para otros problemas de predicción con más de dos resultados ($Y$ puede ser un subconjunto de los números naturales). En cada nodo de la ruta de la raíz a la hoja, el hijo sucesor se elige sobre la base de una división del espacio de entrada. Por lo general, la división se basa en una de las características de x (atributo) o en un conjunto predefinido de reglas de división. Una hoja contiene una etiqueta específica. A continuación se pone un ejemplo de un árbol de decisión en el cuál nos dice si una papaya es sabrosa a partir de su color y suavidad (softness)"
   ]
  },
  {
   "cell_type": "markdown",
   "metadata": {},
   "source": [
    "![title](DT.png)"
   ]
  },
  {
   "cell_type": "markdown",
   "metadata": {},
   "source": [
    "Para verificar si una papaya dada es sabrosa o no, el árbol de decisión primero examina el color de la papaya. Si este color no está en el rango de verde pálido a amarillo pálido, entonces el árbol predice inmediatamente que la papaya no es sabrosa, sin realizar pruebas adicionales. De lo contrario (si está en el rango de colores), el árbol ahora examina la suavidad de la papaya. Si el nivel de suavidad de la papaya es tal que cede ligeramente la presión de la palma, el árbol de decisiones predice que la papaya es sabrosa. De lo contrario, la predicción es \"no sabrosa\". El ejemplo anterior subraya una de las principales ventajas de los árboles de decisión: el clasificador resultante es muy sencillo de entender e interpretar."
   ]
  },
  {
   "cell_type": "markdown",
   "metadata": {},
   "source": [
    "## Escogiendo los atributos de prueba.\n",
    "\n",
    "La búsqueda utilizada en el aprendizaje del árbol de decisión está diseñada para minimizar aproximadamente la profundidad del árbol final. La idea es elegir el atributo que llegue lo más lejos posible para proporcionar una clasificación exacta de los ejemplos. Todo lo que necesitamos, entonces, es una medida formal de \"que tan bueno es\" y \"realmente inútil\". Utilizaremos la noción de ***ganancia de entropia de información***, que se define en términos de entropía, la cantidad fundamental en la teoría de la información\n",
    "\n"
   ]
  },
  {
   "cell_type": "markdown",
   "metadata": {},
   "source": [
    "La entropía es una medida de la incertidumbre de una variable aleatoria; la adquisición de información corresponde a una reducción de la entropía. Una variable aleatoria con un solo valor, por ejemplo una moneda en donde siempre sale cara, no tiene incertidumbre y, por lo tanto, su entropía se define como cero; por lo tanto, no obtenemos información al observar su valor. La entropía puede interpretarse también como el número de bits mínimo necesario para codificar la clasificación de cualquier miembro de tu conjunto de datos. Un lanzamiento de una moneda justa en donde es igualmente probable que salga cara o cruz, 0 o 1,  cuenta como \"1 bit\" de entropía. La tirada de un dado de cuatro lados tiene 2 bits de entropía, porque se necesitan dos bits para describir una de las cuatro opciones igualmente probables. Ahora considere una moneda injusta que sale cara el 99% del tiempo. Intuitivamente, esta moneda tiene menos incertidumbre que la moneda justa, si suponemos que las caras se equivocarán solo el 1% del tiempo, por lo que nos gustaría que tenga una medida de entropía cercana a cero, pero positiva. En general, la entropía de una variable aleatoria $V$ con valores $v_k$, cada uno con probabilidad $P(v_k)$, se define como\n",
    "$$H(v) = \\sum_{k}P(v_k)log_2\\frac{1}{P(v_k)} = -\\sum_{k}P(v_k)log_2P(v_k) $$\n",
    "\n",
    "Ahora verifiquemos que la entropía de una moneda justa es 1 (\"1 bit\"):\n",
    "$$H(fair\\, coin) = -0.5log_2(0.5)-0.5log_2(0.5) = 1$$\n",
    "\n",
    "Si la moneda está cargada de forma que el 99% de las veces caiga cara, se tiene:\n",
    "$$H(loaded\\,coin) = -0.99log_2(0.99)-0.99log_2(0.99)\\approx 0.08$$\n",
    "\n",
    "Para el dado de cuatro lados se tiene:\n",
    "$$H(4-dice) = -0.25log_2(0.25)-0.25log_2(0.25)-0.25log_2(0.25)-0.25log_2(0.25) = 2$$\n"
   ]
  },
  {
   "cell_type": "markdown",
   "metadata": {},
   "source": [
    "Ya vimos que es la entropía, ahora falta definir otra cantidad que nos dice la \"ganancia\" de información. Definimos la ganancia $G$ como:\n",
    "$$G(D,A) = H(D)-\\sum_{a_k}\\frac{|S_{a_k}|}{|S|}H(S_{a_k})$$\n",
    "\n",
    "en donde $a_k$ son los valores que puede tomar el atributo $A$, $S_{a_k}$ es el subconjunto de datos que tienen valor $a_k$ en el atributo $A$ y $|S|$ es la cardinalidad del conjunto de datos"
   ]
  },
  {
   "cell_type": "markdown",
   "metadata": {},
   "source": [
    "# Algoritmo ID3\n",
    "\n",
    "El algoritmo ID3 va seleccionando los atributos que producen mayor ganancia para generar el árbol de decisión."
   ]
  },
  {
   "cell_type": "markdown",
   "metadata": {},
   "source": [
    "Veamos un ejemplo de calculo de ganancia y entropía para un conjunto de datos"
   ]
  },
  {
   "cell_type": "markdown",
   "metadata": {},
   "source": [
    "| A \t| B \t| C \t| E \t|\n",
    "|---\t|---\t|---\t|---\t|\n",
    "| 0 \t| 1 \t| 1 \t| 1 \t|\n",
    "| 1 \t| 1 \t| 1 \t| 1 \t|\n",
    "| 0 \t| 0 \t| 1 \t| 0 \t|\n",
    "| 1 \t| 0 \t| 0 \t| 1 \t|\n",
    "| 1 \t| 1 \t| 1 \t| 1 \t|"
   ]
  },
  {
   "cell_type": "markdown",
   "metadata": {},
   "source": [
    "Este conjunto tiene los atributos A,B y C, mientras que E son las etiquetas que queremos predecir. Llamemos a este conjunto de datos \"D\". Hagamos los cálculos de entropia y de ganancia para cada atributo.\n"
   ]
  },
  {
   "cell_type": "markdown",
   "metadata": {},
   "source": [
    "$$H(D) = -\\frac{4}{5}log_2(\\frac{4}{5})-\\frac{1}{5}log_2(\\frac{1}{5}) = 0.7219$$"
   ]
  },
  {
   "cell_type": "markdown",
   "metadata": {},
   "source": [
    "$$G(D,A) = 0.7219 - \\frac{3}{5}H(D_{A_1}) -  \\frac{2}{5}H(D_{A_0})$$"
   ]
  },
  {
   "cell_type": "markdown",
   "metadata": {},
   "source": [
    "$$G(D,B) = 0.7219 - \\frac{3}{5}H(D_{B_1}) -  \\frac{2}{5}H(D_{B_0})$$"
   ]
  },
  {
   "cell_type": "markdown",
   "metadata": {},
   "source": [
    "$$G(D,C) = 0.7219 - \\frac{4}{5}H(D_{C_1}) -  \\frac{1}{5}H(D_{C_0})$$"
   ]
  },
  {
   "cell_type": "markdown",
   "metadata": {},
   "source": [
    "Calculamos las entropías restantes:\n",
    "$$H(D_{A_1}) = - \\frac{3}{3}log_2(\\frac{3}{3}) = 0$$\n",
    "\n",
    "$$H(D_{A_0}) = - \\frac{1}{2}log_2(\\frac{1}{2}) - \\frac{1}{2}log_2(\\frac{1}{2}) = 1$$\n",
    "\n",
    "$$H(D_{B_1}) = - \\frac{3}{3}log_2(\\frac{3}{3}) = 0$$\n",
    "\n",
    "$$H(D_{B_0}) = - \\frac{1}{2}log_2(\\frac{1}{2}) - \\frac{1}{2}log_2(\\frac{1}{2}) = 1$$\n",
    "\n",
    "$$H(D_{C_1}) = -\\frac{3}{4}log_2(\\frac{3}{4}) -\\frac{1}{4}log_2(\\frac{1}{4}) = 0.8113$$ \n",
    "\n",
    "$$H(D_{C_0}) = - \\frac{1}{1}log_2(\\frac{1}{1}) = 0$$\n"
   ]
  },
  {
   "cell_type": "markdown",
   "metadata": {},
   "source": [
    "Las ganancias quedan finalmente como:\n",
    "$$G(D,A) = 0.7219 - \\frac{3}{5}(0) -  \\frac{2}{5}(1) = 0.3219$$"
   ]
  },
  {
   "cell_type": "markdown",
   "metadata": {},
   "source": [
    "$$G(D,B) = 0.7219 - \\frac{3}{5}(0) -  \\frac{2}{5}(1) = 0.3219$$"
   ]
  },
  {
   "cell_type": "markdown",
   "metadata": {},
   "source": [
    "$$G(D,C) = 0.7219 - \\frac{4}{5}(0.8113) -  \\frac{1}{5}(0) = 0.07286$$"
   ]
  },
  {
   "cell_type": "markdown",
   "metadata": {},
   "source": [
    "Al tener dos atributos con la misma ganancia se escoge uno de manera aleatoria, ya que tanto A como B tienen la ganancia máxima. Este proceso se hace sucesivamente hasta tomar en cuenta todos los atributos."
   ]
  },
  {
   "cell_type": "markdown",
   "metadata": {},
   "source": [
    "## Prunning (Poda)"
   ]
  },
  {
   "cell_type": "markdown",
   "metadata": {},
   "source": [
    "El algoritmo ID3 descrito anteriormente todavía tiene un gran problema: el árbol devuelto generalmente será muy grande y también puede haber un sobreajuste en los datos (overfitting). Esos árboles pueden tener un riesgo empírico bajo, pero su verdadero riesgo tenderá a ser alto, tanto de acuerdo con nuestro análisis teórico como en la práctica. Una solución es limitar el número de iteraciones de ID3, lo que lleva a un árbol con un número limitado de nodos. Otra solución común es ***podar*** el árbol después de su construcción, con la esperanza de reducirlo a un árbol mucho más pequeño, pero aún con un error empírico similar.  Por lo general, la poda se realiza mediante una caminata de abajo hacia arriba en el árbol. Cada nodo puede ser reemplazado con uno de sus subárboles o con una hoja."
   ]
  },
  {
   "cell_type": "markdown",
   "metadata": {},
   "source": [
    "# Utilizando aŕboles de decisión con scikit-learn"
   ]
  },
  {
   "cell_type": "code",
   "execution_count": 1,
   "metadata": {},
   "outputs": [],
   "source": [
    "import numpy as np\n",
    "import matplotlib.pyplot as plt \n",
    "import pandas as pd "
   ]
  },
  {
   "cell_type": "code",
   "execution_count": 2,
   "metadata": {},
   "outputs": [
    {
     "data": {
      "text/html": [
       "<div>\n",
       "<style scoped>\n",
       "    .dataframe tbody tr th:only-of-type {\n",
       "        vertical-align: middle;\n",
       "    }\n",
       "\n",
       "    .dataframe tbody tr th {\n",
       "        vertical-align: top;\n",
       "    }\n",
       "\n",
       "    .dataframe thead th {\n",
       "        text-align: right;\n",
       "    }\n",
       "</style>\n",
       "<table border=\"1\" class=\"dataframe\">\n",
       "  <thead>\n",
       "    <tr style=\"text-align: right;\">\n",
       "      <th></th>\n",
       "      <th>User ID</th>\n",
       "      <th>Gender</th>\n",
       "      <th>Age</th>\n",
       "      <th>EstimatedSalary</th>\n",
       "      <th>Purchased</th>\n",
       "    </tr>\n",
       "  </thead>\n",
       "  <tbody>\n",
       "    <tr>\n",
       "      <th>0</th>\n",
       "      <td>15624510</td>\n",
       "      <td>Male</td>\n",
       "      <td>19.0</td>\n",
       "      <td>19000.0</td>\n",
       "      <td>0</td>\n",
       "    </tr>\n",
       "    <tr>\n",
       "      <th>1</th>\n",
       "      <td>15810944</td>\n",
       "      <td>Male</td>\n",
       "      <td>35.0</td>\n",
       "      <td>20000.0</td>\n",
       "      <td>0</td>\n",
       "    </tr>\n",
       "    <tr>\n",
       "      <th>2</th>\n",
       "      <td>15668575</td>\n",
       "      <td>Female</td>\n",
       "      <td>26.0</td>\n",
       "      <td>43000.0</td>\n",
       "      <td>0</td>\n",
       "    </tr>\n",
       "    <tr>\n",
       "      <th>3</th>\n",
       "      <td>15603246</td>\n",
       "      <td>Female</td>\n",
       "      <td>27.0</td>\n",
       "      <td>57000.0</td>\n",
       "      <td>0</td>\n",
       "    </tr>\n",
       "    <tr>\n",
       "      <th>4</th>\n",
       "      <td>15804002</td>\n",
       "      <td>Male</td>\n",
       "      <td>19.0</td>\n",
       "      <td>76000.0</td>\n",
       "      <td>0</td>\n",
       "    </tr>\n",
       "  </tbody>\n",
       "</table>\n",
       "</div>"
      ],
      "text/plain": [
       "    User ID  Gender   Age  EstimatedSalary  Purchased\n",
       "0  15624510    Male  19.0          19000.0          0\n",
       "1  15810944    Male  35.0          20000.0          0\n",
       "2  15668575  Female  26.0          43000.0          0\n",
       "3  15603246  Female  27.0          57000.0          0\n",
       "4  15804002    Male  19.0          76000.0          0"
      ]
     },
     "execution_count": 2,
     "metadata": {},
     "output_type": "execute_result"
    }
   ],
   "source": [
    "dataset=pd.read_csv(\"data_log_2.csv\")\n",
    "dataset.head()"
   ]
  },
  {
   "cell_type": "code",
   "execution_count": 3,
   "metadata": {},
   "outputs": [],
   "source": [
    "X=dataset.iloc[:,2:4].values\n",
    "y=dataset.iloc[:,4].values"
   ]
  },
  {
   "cell_type": "code",
   "execution_count": 4,
   "metadata": {},
   "outputs": [
    {
     "data": {
      "text/plain": [
       "array([[1.90e+01, 1.90e+04],\n",
       "       [3.50e+01, 2.00e+04],\n",
       "       [2.60e+01, 4.30e+04],\n",
       "       [2.70e+01, 5.70e+04],\n",
       "       [1.90e+01, 7.60e+04],\n",
       "       [2.70e+01, 5.80e+04],\n",
       "       [2.70e+01, 8.40e+04],\n",
       "       [3.20e+01, 1.50e+05],\n",
       "       [2.50e+01, 3.30e+04],\n",
       "       [3.50e+01, 6.50e+04],\n",
       "       [2.60e+01, 8.00e+04],\n",
       "       [2.60e+01, 5.20e+04],\n",
       "       [2.00e+01, 8.60e+04],\n",
       "       [3.20e+01, 1.80e+04],\n",
       "       [1.80e+01, 8.20e+04],\n",
       "       [2.90e+01, 8.00e+04],\n",
       "       [4.70e+01, 2.50e+04],\n",
       "       [4.50e+01, 2.60e+04],\n",
       "       [4.60e+01, 2.80e+04],\n",
       "       [4.80e+01, 2.90e+04],\n",
       "       [4.50e+01, 2.20e+04],\n",
       "       [4.70e+01, 4.90e+04],\n",
       "       [4.80e+01, 4.10e+04],\n",
       "       [4.50e+01, 2.20e+04],\n",
       "       [4.60e+01, 2.30e+04],\n",
       "       [4.70e+01, 2.00e+04],\n",
       "       [4.90e+01, 2.80e+04],\n",
       "       [4.70e+01, 3.00e+04],\n",
       "       [2.90e+01, 4.30e+04],\n",
       "       [3.10e+01, 1.80e+04],\n",
       "       [3.10e+01, 7.40e+04],\n",
       "       [2.70e+01, 1.37e+05],\n",
       "       [2.10e+01, 1.60e+04],\n",
       "       [2.80e+01, 4.40e+04],\n",
       "       [2.70e+01, 9.00e+04],\n",
       "       [3.50e+01, 2.70e+04],\n",
       "       [3.30e+01, 2.80e+04],\n",
       "       [3.00e+01, 4.90e+04],\n",
       "       [2.60e+01, 7.20e+04],\n",
       "       [2.70e+01, 3.10e+04],\n",
       "       [2.70e+01, 1.70e+04],\n",
       "       [3.30e+01, 5.10e+04],\n",
       "       [3.50e+01, 1.08e+05],\n",
       "       [3.00e+01, 1.50e+04],\n",
       "       [2.80e+01, 8.40e+04],\n",
       "       [2.30e+01, 2.00e+04],\n",
       "       [2.50e+01, 7.90e+04],\n",
       "       [2.70e+01, 5.40e+04],\n",
       "       [3.00e+01, 1.35e+05],\n",
       "       [3.10e+01, 8.90e+04],\n",
       "       [2.40e+01, 3.20e+04],\n",
       "       [1.80e+01, 4.40e+04],\n",
       "       [2.90e+01, 8.30e+04],\n",
       "       [3.50e+01, 2.30e+04],\n",
       "       [2.70e+01, 5.80e+04],\n",
       "       [2.40e+01, 5.50e+04],\n",
       "       [2.30e+01, 4.80e+04],\n",
       "       [2.80e+01, 7.90e+04],\n",
       "       [2.20e+01, 1.80e+04],\n",
       "       [3.20e+01, 1.17e+05],\n",
       "       [2.70e+01, 2.00e+04],\n",
       "       [2.50e+01, 8.70e+04],\n",
       "       [2.30e+01, 6.60e+04],\n",
       "       [3.20e+01, 1.20e+05],\n",
       "       [5.90e+01, 8.30e+04],\n",
       "       [2.40e+01, 5.80e+04],\n",
       "       [2.40e+01, 1.90e+04],\n",
       "       [2.30e+01, 8.20e+04],\n",
       "       [2.20e+01, 6.30e+04],\n",
       "       [3.10e+01, 6.80e+04],\n",
       "       [2.50e+01, 8.00e+04],\n",
       "       [2.40e+01, 2.70e+04],\n",
       "       [2.00e+01, 2.30e+04],\n",
       "       [3.30e+01, 1.13e+05],\n",
       "       [3.20e+01, 1.80e+04],\n",
       "       [3.40e+01, 1.12e+05],\n",
       "       [1.80e+01, 5.20e+04],\n",
       "       [2.20e+01, 2.70e+04],\n",
       "       [2.80e+01, 8.70e+04],\n",
       "       [2.60e+01, 1.70e+04],\n",
       "       [3.00e+01, 8.00e+04],\n",
       "       [3.90e+01, 4.20e+04],\n",
       "       [2.00e+01, 4.90e+04],\n",
       "       [3.50e+01, 8.80e+04],\n",
       "       [3.00e+01, 6.20e+04],\n",
       "       [3.10e+01, 1.18e+05],\n",
       "       [2.40e+01, 5.50e+04],\n",
       "       [2.80e+01, 8.50e+04],\n",
       "       [2.60e+01, 8.10e+04],\n",
       "       [3.50e+01, 5.00e+04],\n",
       "       [2.20e+01, 8.10e+04],\n",
       "       [3.00e+01, 1.16e+05],\n",
       "       [2.60e+01, 1.50e+04],\n",
       "       [2.90e+01, 2.80e+04],\n",
       "       [2.90e+01, 8.30e+04],\n",
       "       [3.50e+01, 4.40e+04],\n",
       "       [3.50e+01, 2.50e+04],\n",
       "       [2.80e+01, 1.23e+05],\n",
       "       [3.50e+01, 7.30e+04],\n",
       "       [2.80e+01, 3.70e+04],\n",
       "       [2.70e+01, 8.80e+04],\n",
       "       [2.80e+01, 5.90e+04],\n",
       "       [3.20e+01, 8.60e+04],\n",
       "       [3.30e+01, 1.49e+05],\n",
       "       [1.90e+01, 2.10e+04],\n",
       "       [2.10e+01, 7.20e+04],\n",
       "       [2.60e+01, 3.50e+04],\n",
       "       [2.70e+01, 8.90e+04],\n",
       "       [2.60e+01, 8.60e+04],\n",
       "       [3.80e+01, 8.00e+04],\n",
       "       [3.90e+01, 7.10e+04],\n",
       "       [3.70e+01, 7.10e+04],\n",
       "       [3.80e+01, 6.10e+04],\n",
       "       [3.70e+01, 5.50e+04],\n",
       "       [4.20e+01, 8.00e+04],\n",
       "       [4.00e+01, 5.70e+04],\n",
       "       [3.50e+01, 7.50e+04],\n",
       "       [3.60e+01, 5.20e+04],\n",
       "       [4.00e+01, 5.90e+04],\n",
       "       [4.10e+01, 5.90e+04],\n",
       "       [3.60e+01, 7.50e+04],\n",
       "       [3.70e+01, 7.20e+04],\n",
       "       [4.00e+01, 7.50e+04],\n",
       "       [3.50e+01, 5.30e+04],\n",
       "       [4.10e+01, 5.10e+04],\n",
       "       [3.90e+01, 6.10e+04],\n",
       "       [4.20e+01, 6.50e+04],\n",
       "       [2.60e+01, 3.20e+04],\n",
       "       [3.00e+01, 1.70e+04],\n",
       "       [2.60e+01, 8.40e+04],\n",
       "       [3.10e+01, 5.80e+04],\n",
       "       [3.30e+01, 3.10e+04],\n",
       "       [3.00e+01, 8.70e+04],\n",
       "       [2.10e+01, 6.80e+04],\n",
       "       [2.80e+01, 5.50e+04],\n",
       "       [2.30e+01, 6.30e+04],\n",
       "       [2.00e+01, 8.20e+04],\n",
       "       [3.00e+01, 1.07e+05],\n",
       "       [2.80e+01, 5.90e+04],\n",
       "       [1.90e+01, 2.50e+04],\n",
       "       [1.90e+01, 8.50e+04],\n",
       "       [1.80e+01, 6.80e+04],\n",
       "       [3.50e+01, 5.90e+04],\n",
       "       [3.00e+01, 8.90e+04],\n",
       "       [3.40e+01, 2.50e+04],\n",
       "       [2.40e+01, 8.90e+04],\n",
       "       [2.70e+01, 9.60e+04],\n",
       "       [4.10e+01, 3.00e+04],\n",
       "       [2.90e+01, 6.10e+04],\n",
       "       [2.00e+01, 7.40e+04],\n",
       "       [2.60e+01, 1.50e+04],\n",
       "       [4.10e+01, 4.50e+04],\n",
       "       [3.10e+01, 7.60e+04],\n",
       "       [3.60e+01, 5.00e+04],\n",
       "       [4.00e+01, 4.70e+04],\n",
       "       [3.10e+01, 1.50e+04],\n",
       "       [4.60e+01, 5.90e+04],\n",
       "       [2.90e+01, 7.50e+04],\n",
       "       [2.60e+01, 3.00e+04],\n",
       "       [3.20e+01, 1.35e+05],\n",
       "       [3.20e+01, 1.00e+05],\n",
       "       [2.50e+01, 9.00e+04],\n",
       "       [3.70e+01, 3.30e+04],\n",
       "       [3.50e+01, 3.80e+04],\n",
       "       [3.30e+01, 6.90e+04],\n",
       "       [1.80e+01, 8.60e+04],\n",
       "       [2.20e+01, 5.50e+04],\n",
       "       [3.50e+01, 7.10e+04],\n",
       "       [2.90e+01, 1.48e+05],\n",
       "       [2.90e+01, 4.70e+04],\n",
       "       [2.10e+01, 8.80e+04],\n",
       "       [3.40e+01, 1.15e+05],\n",
       "       [2.60e+01, 1.18e+05],\n",
       "       [3.40e+01, 4.30e+04],\n",
       "       [3.40e+01, 7.20e+04],\n",
       "       [2.30e+01, 2.80e+04],\n",
       "       [3.50e+01, 4.70e+04],\n",
       "       [2.50e+01, 2.20e+04],\n",
       "       [2.40e+01, 2.30e+04],\n",
       "       [3.10e+01, 3.40e+04],\n",
       "       [2.60e+01, 1.60e+04],\n",
       "       [3.10e+01, 7.10e+04],\n",
       "       [3.20e+01, 1.17e+05],\n",
       "       [3.30e+01, 4.30e+04],\n",
       "       [3.30e+01, 6.00e+04],\n",
       "       [3.10e+01, 6.60e+04],\n",
       "       [2.00e+01, 8.20e+04],\n",
       "       [3.30e+01, 4.10e+04],\n",
       "       [3.50e+01, 7.20e+04],\n",
       "       [2.80e+01, 3.20e+04],\n",
       "       [2.40e+01, 8.40e+04],\n",
       "       [1.90e+01, 2.60e+04],\n",
       "       [2.90e+01, 4.30e+04],\n",
       "       [1.90e+01, 7.00e+04],\n",
       "       [2.80e+01, 8.90e+04],\n",
       "       [3.40e+01, 4.30e+04],\n",
       "       [3.00e+01, 7.90e+04],\n",
       "       [2.00e+01, 3.60e+04],\n",
       "       [2.60e+01, 8.00e+04],\n",
       "       [3.50e+01, 2.20e+04],\n",
       "       [3.50e+01, 3.90e+04],\n",
       "       [4.90e+01, 7.40e+04],\n",
       "       [3.90e+01, 1.34e+05],\n",
       "       [4.10e+01, 7.10e+04],\n",
       "       [5.80e+01, 1.01e+05],\n",
       "       [4.70e+01, 4.70e+04],\n",
       "       [5.50e+01, 1.30e+05],\n",
       "       [5.20e+01, 1.14e+05],\n",
       "       [4.00e+01, 1.42e+05],\n",
       "       [4.60e+01, 2.20e+04],\n",
       "       [4.80e+01, 9.60e+04],\n",
       "       [5.20e+01, 1.50e+05],\n",
       "       [5.90e+01, 4.20e+04],\n",
       "       [3.50e+01, 5.80e+04],\n",
       "       [4.70e+01, 4.30e+04],\n",
       "       [6.00e+01, 1.08e+05],\n",
       "       [4.90e+01, 6.50e+04],\n",
       "       [4.00e+01, 7.80e+04],\n",
       "       [4.60e+01, 9.60e+04],\n",
       "       [5.90e+01, 1.43e+05],\n",
       "       [4.10e+01, 8.00e+04],\n",
       "       [3.50e+01, 9.10e+04],\n",
       "       [3.70e+01, 1.44e+05],\n",
       "       [6.00e+01, 1.02e+05],\n",
       "       [3.50e+01, 6.00e+04],\n",
       "       [3.70e+01, 5.30e+04],\n",
       "       [3.60e+01, 1.26e+05],\n",
       "       [5.60e+01, 1.33e+05],\n",
       "       [4.00e+01, 7.20e+04],\n",
       "       [4.20e+01, 8.00e+04],\n",
       "       [3.50e+01, 1.47e+05],\n",
       "       [3.90e+01, 4.20e+04],\n",
       "       [4.00e+01, 1.07e+05],\n",
       "       [4.90e+01, 8.60e+04],\n",
       "       [3.80e+01, 1.12e+05],\n",
       "       [4.60e+01, 7.90e+04],\n",
       "       [4.00e+01, 5.70e+04],\n",
       "       [3.70e+01, 8.00e+04],\n",
       "       [4.60e+01, 8.20e+04],\n",
       "       [5.30e+01, 1.43e+05],\n",
       "       [4.20e+01, 1.49e+05],\n",
       "       [3.80e+01, 5.90e+04],\n",
       "       [5.00e+01, 8.80e+04],\n",
       "       [5.60e+01, 1.04e+05],\n",
       "       [4.10e+01, 7.20e+04],\n",
       "       [5.10e+01, 1.46e+05],\n",
       "       [3.50e+01, 5.00e+04],\n",
       "       [5.70e+01, 1.22e+05],\n",
       "       [4.10e+01, 5.20e+04],\n",
       "       [3.50e+01, 9.70e+04],\n",
       "       [4.40e+01, 3.90e+04],\n",
       "       [3.70e+01, 5.20e+04],\n",
       "       [4.80e+01, 1.34e+05],\n",
       "       [3.70e+01, 1.46e+05],\n",
       "       [5.00e+01, 4.40e+04],\n",
       "       [5.20e+01, 9.00e+04],\n",
       "       [4.10e+01, 7.20e+04],\n",
       "       [4.00e+01, 5.70e+04],\n",
       "       [5.80e+01, 9.50e+04],\n",
       "       [4.50e+01, 1.31e+05],\n",
       "       [3.50e+01, 7.70e+04],\n",
       "       [3.60e+01, 1.44e+05],\n",
       "       [5.50e+01, 1.25e+05],\n",
       "       [3.50e+01, 7.20e+04],\n",
       "       [4.80e+01, 9.00e+04],\n",
       "       [4.20e+01, 1.08e+05],\n",
       "       [4.00e+01, 7.50e+04],\n",
       "       [3.70e+01, 7.40e+04],\n",
       "       [4.70e+01, 1.44e+05],\n",
       "       [4.00e+01, 6.10e+04],\n",
       "       [4.30e+01, 1.33e+05],\n",
       "       [5.90e+01, 7.60e+04],\n",
       "       [6.00e+01, 4.20e+04],\n",
       "       [3.90e+01, 1.06e+05],\n",
       "       [5.70e+01, 2.60e+04],\n",
       "       [5.70e+01, 7.40e+04],\n",
       "       [3.80e+01, 7.10e+04],\n",
       "       [4.90e+01, 8.80e+04],\n",
       "       [5.20e+01, 3.80e+04],\n",
       "       [5.00e+01, 3.60e+04],\n",
       "       [5.90e+01, 8.80e+04],\n",
       "       [3.50e+01, 6.10e+04],\n",
       "       [3.70e+01, 7.00e+04],\n",
       "       [5.20e+01, 2.10e+04],\n",
       "       [4.80e+01, 1.41e+05],\n",
       "       [3.70e+01, 9.30e+04],\n",
       "       [3.70e+01, 6.20e+04],\n",
       "       [4.80e+01, 1.38e+05],\n",
       "       [4.10e+01, 7.90e+04],\n",
       "       [3.70e+01, 7.80e+04],\n",
       "       [3.90e+01, 1.34e+05],\n",
       "       [4.90e+01, 8.90e+04],\n",
       "       [5.50e+01, 3.90e+04],\n",
       "       [3.70e+01, 7.70e+04],\n",
       "       [3.50e+01, 5.70e+04],\n",
       "       [3.60e+01, 6.30e+04],\n",
       "       [4.20e+01, 7.30e+04],\n",
       "       [4.30e+01, 1.12e+05],\n",
       "       [4.50e+01, 7.90e+04],\n",
       "       [4.60e+01, 1.17e+05],\n",
       "       [5.80e+01, 3.80e+04],\n",
       "       [4.80e+01, 7.40e+04],\n",
       "       [3.70e+01, 1.37e+05],\n",
       "       [3.70e+01, 7.90e+04],\n",
       "       [4.00e+01, 6.00e+04],\n",
       "       [4.20e+01, 5.40e+04],\n",
       "       [5.10e+01, 1.34e+05],\n",
       "       [4.70e+01, 1.13e+05],\n",
       "       [3.60e+01, 1.25e+05],\n",
       "       [3.80e+01, 5.00e+04],\n",
       "       [4.20e+01, 7.00e+04],\n",
       "       [3.90e+01, 9.60e+04],\n",
       "       [3.80e+01, 5.00e+04],\n",
       "       [4.90e+01, 1.41e+05],\n",
       "       [3.90e+01, 7.90e+04],\n",
       "       [3.90e+01, 7.50e+04],\n",
       "       [5.40e+01, 1.04e+05],\n",
       "       [3.50e+01, 5.50e+04],\n",
       "       [4.50e+01, 3.20e+04],\n",
       "       [3.60e+01, 6.00e+04],\n",
       "       [5.20e+01, 1.38e+05],\n",
       "       [5.30e+01, 8.20e+04],\n",
       "       [4.10e+01, 5.20e+04],\n",
       "       [4.80e+01, 3.00e+04],\n",
       "       [4.80e+01, 1.31e+05],\n",
       "       [4.10e+01, 6.00e+04],\n",
       "       [4.10e+01, 7.20e+04],\n",
       "       [4.20e+01, 7.50e+04],\n",
       "       [3.60e+01, 1.18e+05],\n",
       "       [4.70e+01, 1.07e+05],\n",
       "       [3.80e+01, 5.10e+04],\n",
       "       [4.80e+01, 1.19e+05],\n",
       "       [4.20e+01, 6.50e+04],\n",
       "       [4.00e+01, 6.50e+04],\n",
       "       [5.70e+01, 6.00e+04],\n",
       "       [3.60e+01, 5.40e+04],\n",
       "       [5.80e+01, 1.44e+05],\n",
       "       [3.50e+01, 7.90e+04],\n",
       "       [3.80e+01, 5.50e+04],\n",
       "       [3.90e+01, 1.22e+05],\n",
       "       [5.30e+01, 1.04e+05],\n",
       "       [3.50e+01, 7.50e+04],\n",
       "       [3.80e+01, 6.50e+04],\n",
       "       [4.70e+01, 5.10e+04],\n",
       "       [4.70e+01, 1.05e+05],\n",
       "       [4.10e+01, 6.30e+04],\n",
       "       [5.30e+01, 7.20e+04],\n",
       "       [5.40e+01, 1.08e+05],\n",
       "       [3.90e+01, 7.70e+04],\n",
       "       [3.80e+01, 6.10e+04],\n",
       "       [3.80e+01, 1.13e+05],\n",
       "       [3.70e+01, 7.50e+04],\n",
       "       [4.20e+01, 9.00e+04],\n",
       "       [3.70e+01, 5.70e+04],\n",
       "       [3.60e+01, 9.90e+04],\n",
       "       [6.00e+01, 3.40e+04],\n",
       "       [5.40e+01, 7.00e+04],\n",
       "       [4.10e+01, 7.20e+04],\n",
       "       [4.00e+01, 7.10e+04],\n",
       "       [4.20e+01, 5.40e+04],\n",
       "       [4.30e+01, 1.29e+05],\n",
       "       [5.30e+01, 3.40e+04],\n",
       "       [4.70e+01, 5.00e+04],\n",
       "       [4.20e+01, 7.90e+04],\n",
       "       [4.20e+01, 1.04e+05],\n",
       "       [5.90e+01, 2.90e+04],\n",
       "       [5.80e+01, 4.70e+04],\n",
       "       [4.60e+01, 8.80e+04],\n",
       "       [3.80e+01, 7.10e+04],\n",
       "       [5.40e+01, 2.60e+04],\n",
       "       [6.00e+01, 4.60e+04],\n",
       "       [6.00e+01, 8.30e+04],\n",
       "       [3.90e+01, 7.30e+04],\n",
       "       [5.90e+01, 1.30e+05],\n",
       "       [3.70e+01, 8.00e+04],\n",
       "       [4.60e+01, 3.20e+04],\n",
       "       [4.60e+01, 7.40e+04],\n",
       "       [4.20e+01, 5.30e+04],\n",
       "       [4.10e+01, 8.70e+04],\n",
       "       [5.80e+01, 2.30e+04],\n",
       "       [4.20e+01, 6.40e+04],\n",
       "       [4.80e+01, 3.30e+04],\n",
       "       [4.40e+01, 1.39e+05],\n",
       "       [4.90e+01, 2.80e+04],\n",
       "       [5.70e+01, 3.30e+04],\n",
       "       [5.60e+01, 6.00e+04],\n",
       "       [4.90e+01, 3.90e+04],\n",
       "       [3.90e+01, 7.10e+04],\n",
       "       [4.70e+01, 3.40e+04],\n",
       "       [4.80e+01, 3.50e+04],\n",
       "       [4.80e+01, 3.30e+04],\n",
       "       [4.70e+01, 2.30e+04],\n",
       "       [4.50e+01, 4.50e+04],\n",
       "       [6.00e+01, 4.20e+04],\n",
       "       [3.90e+01, 5.90e+04],\n",
       "       [4.60e+01, 4.10e+04],\n",
       "       [5.10e+01, 2.30e+04],\n",
       "       [5.00e+01, 2.00e+04],\n",
       "       [3.60e+01, 3.30e+04],\n",
       "       [4.90e+01, 3.60e+04]])"
      ]
     },
     "execution_count": 4,
     "metadata": {},
     "output_type": "execute_result"
    }
   ],
   "source": [
    "X"
   ]
  },
  {
   "cell_type": "code",
   "execution_count": 5,
   "metadata": {},
   "outputs": [],
   "source": [
    "from sklearn.model_selection import train_test_split\n",
    "X_train,X_test,y_train,y_test=train_test_split(X,y, test_size=0.25, random_state=0)\n"
   ]
  },
  {
   "cell_type": "code",
   "execution_count": 6,
   "metadata": {},
   "outputs": [
    {
     "data": {
      "text/plain": [
       "DecisionTreeClassifier(ccp_alpha=0.0, class_weight=None, criterion='entropy',\n",
       "                       max_depth=None, max_features=None, max_leaf_nodes=None,\n",
       "                       min_impurity_decrease=0.0, min_impurity_split=None,\n",
       "                       min_samples_leaf=1, min_samples_split=2,\n",
       "                       min_weight_fraction_leaf=0.0, presort='deprecated',\n",
       "                       random_state=0, splitter='best')"
      ]
     },
     "execution_count": 6,
     "metadata": {},
     "output_type": "execute_result"
    }
   ],
   "source": [
    "from sklearn.tree import DecisionTreeClassifier\n",
    "classifier=DecisionTreeClassifier(criterion=\"entropy\", random_state=0)\n",
    "classifier.fit(X_train,y_train)"
   ]
  },
  {
   "cell_type": "code",
   "execution_count": 7,
   "metadata": {},
   "outputs": [],
   "source": [
    "y_pred=classifier.predict(X_train)"
   ]
  },
  {
   "cell_type": "code",
   "execution_count": 8,
   "metadata": {},
   "outputs": [],
   "source": [
    "y_pred_2 = classifier.predict(X_test)"
   ]
  },
  {
   "cell_type": "code",
   "execution_count": 9,
   "metadata": {},
   "outputs": [],
   "source": [
    "from sklearn.metrics import confusion_matrix\n",
    "cm = confusion_matrix(y_train,y_pred)\n",
    "cm_2 = confusion_matrix(y_test,y_pred_2)"
   ]
  },
  {
   "cell_type": "code",
   "execution_count": 10,
   "metadata": {},
   "outputs": [
    {
     "data": {
      "text/plain": [
       "array([[189,   0],\n",
       "       [  0, 111]])"
      ]
     },
     "execution_count": 10,
     "metadata": {},
     "output_type": "execute_result"
    }
   ],
   "source": [
    "cm"
   ]
  },
  {
   "cell_type": "code",
   "execution_count": 11,
   "metadata": {},
   "outputs": [
    {
     "data": {
      "text/plain": [
       "array([[62,  6],\n",
       "       [ 3, 29]])"
      ]
     },
     "execution_count": 11,
     "metadata": {},
     "output_type": "execute_result"
    }
   ],
   "source": [
    "cm_2"
   ]
  },
  {
   "cell_type": "code",
   "execution_count": 58,
   "metadata": {},
   "outputs": [
    {
     "name": "stderr",
     "output_type": "stream",
     "text": [
      "'c' argument looks like a single numeric RGB or RGBA sequence, which should be avoided as value-mapping will have precedence in case its length matches with 'x' & 'y'.  Please use a 2-D array with a single row if you really want to specify the same RGB or RGBA value for all points.\n",
      "'c' argument looks like a single numeric RGB or RGBA sequence, which should be avoided as value-mapping will have precedence in case its length matches with 'x' & 'y'.  Please use a 2-D array with a single row if you really want to specify the same RGB or RGBA value for all points.\n"
     ]
    },
    {
     "data": {
      "image/png": "[encoded data removed]",
      "text/plain": [
       "<Figure size 576x504 with 1 Axes>"
      ]
     },
     "metadata": {},
     "output_type": "display_data"
    }
   ],
   "source": [
    "from matplotlib.colors import ListedColormap\n",
    "X_set, y_set = X_train, y_train\n",
    "X1, X2 = np.meshgrid(np.arange(start = X_set[:, 0].min() - 1, stop = X_set[:, 0].max() + 1, step = 0.5),\n",
    "                     np.arange(start = X_set[:, 1].min() - 1, stop = X_set[:, 1].max() + 1, step = 0.5))\n",
    "plt.contourf(X1, X2, classifier.predict(np.array([X1.ravel(), X2.ravel()]).T).reshape(X1.shape),\n",
    "             alpha = 0.5,cmap = ListedColormap(('red', 'green')))\n",
    "plt.xlim(X1.min(), X1.max())\n",
    "plt.ylim(X2.min(), X2.max())\n",
    "for i, j in enumerate(np.unique(y_set)):\n",
    "    plt.scatter(X_set[y_set == j, 0], X_set[y_set == j, 1],\n",
    "                c = ListedColormap(('red', 'green'))(i), label = j)\n",
    "plt.title('Árbol de decisión (Conjunto de Entrenamiento)')\n",
    "plt.xlabel('Edad')\n",
    "plt.ylabel('Sueldo Estimado')\n",
    "plt.legend()\n",
    "plt.show()"
   ]
  },
  {
   "cell_type": "code",
   "execution_count": 59,
   "metadata": {},
   "outputs": [
    {
     "name": "stderr",
     "output_type": "stream",
     "text": [
      "'c' argument looks like a single numeric RGB or RGBA sequence, which should be avoided as value-mapping will have precedence in case its length matches with 'x' & 'y'.  Please use a 2-D array with a single row if you really want to specify the same RGB or RGBA value for all points.\n",
      "'c' argument looks like a single numeric RGB or RGBA sequence, which should be avoided as value-mapping will have precedence in case its length matches with 'x' & 'y'.  Please use a 2-D array with a single row if you really want to specify the same RGB or RGBA value for all points.\n"
     ]
    },
    {
     "data": {
      "image/png": "[encoded data removed]",
      "text/plain": [
       "<Figure size 576x504 with 1 Axes>"
      ]
     },
     "metadata": {},
     "output_type": "display_data"
    }
   ],
   "source": [
    "X_set, y_set = X_test, y_test\n",
    "X1, X2 = np.meshgrid(np.arange(start = X_set[:, 0].min() - 1, stop = X_set[:, 0].max() + 1, step = 0.5),\n",
    "                     np.arange(start = X_set[:, 1].min() - 1, stop = X_set[:, 1].max() + 1, step = 0.5))\n",
    "plt.contourf(X1, X2, classifier.predict(np.array([X1.ravel(), X2.ravel()]).T).reshape(X1.shape),\n",
    "             alpha = 0.5, cmap = ListedColormap(('red', 'green')))\n",
    "plt.xlim(X1.min(), X1.max())\n",
    "plt.ylim(X2.min(), X2.max())\n",
    "for i, j in enumerate(np.unique(y_set)):\n",
    "    plt.scatter(X_set[y_set == j, 0], X_set[y_set == j, 1],\n",
    "                c = ListedColormap(('red', 'green'))(i), label = j)\n",
    "plt.title('Árbol de decisión (Conjunto de Test)')\n",
    "plt.xlabel('Edad')\n",
    "plt.ylabel('Sueldo Estimado')\n",
    "plt.legend()\n",
    "plt.show()"
   ]
  },
  {
   "cell_type": "markdown",
   "metadata": {},
   "source": [
    "# Random forests"
   ]
  },
  {
   "cell_type": "markdown",
   "metadata": {},
   "source": [
    "Otra forma de reducir el peligro de sobreajuste (overfitting) es mediante la construcción de un conjunto de árboles. En particular, a continuación describimos el método de ***bosques aleatorios (random forests)***"
   ]
  },
  {
   "cell_type": "markdown",
   "metadata": {},
   "source": [
    "Un bosque aleatorio es un clasificador que consiste en una colección de árboles de decisión, donde cada árbol se construye aplicando un algoritmo A en el conjunto de entrenamiento $S$ y un vector aleatorio adicional, $\\theta$, donde $\\theta$ se muestrea de alguna distribución. La predicción del bosque aleatorio se obtiene por mayoría de votos sobre las predicciones de los árboles individuales."
   ]
  },
  {
   "cell_type": "markdown",
   "metadata": {},
   "source": [
    "Para especificar un bosque aleatorio particular, necesitamos definir el algoritmo $A$ y la distribución sobre $\\theta$. Hay muchas formas de hacer esto y aquí describimos una opción en particular. Generamos $\\theta$ de la siguiente manera. Primero, tomamos una submuestra aleatoria de $S$; a saber, muestreamos un nuevo conjunto de entrenamiento $S^\\prime$ de tamaño $m^\\prime$ usando la distribución uniforme sobre $S$. Segundo, construimos una sucesión $I_1, I_2,\\dots,$ donde cada $I_t$ es un subconjunto de $[d]$ ($d$ es el número de atributos o características del dataset) de tamaño $k$, que se genera mediante el muestreo uniforme de elementos aleatorios de $[d]$. Todas estas variables aleatorias forman el vector $\\theta$. Luego, el algoritmo $A$ desarrolla un árbol de decisión (por ejemplo, usando el algoritmo ID3) basado en la muestra $S^\\prime$, donde en cada etapa de división del algoritmo, el algoritmo se limita a elegir una característica que maximice la ganancia del conjunto $I_t$. Intuitivamente, si $k$ es pequeño, esta restricción puede evitar el sobreajuste.\n"
   ]
  },
  {
   "cell_type": "markdown",
   "metadata": {},
   "source": [
    "## Random forests con scikit-learn"
   ]
  },
  {
   "cell_type": "code",
   "execution_count": 50,
   "metadata": {},
   "outputs": [
    {
     "data": {
      "text/plain": [
       "RandomForestClassifier(bootstrap=True, ccp_alpha=0.0, class_weight=None,\n",
       "                       criterion='entropy', max_depth=None, max_features='auto',\n",
       "                       max_leaf_nodes=None, max_samples=None,\n",
       "                       min_impurity_decrease=0.0, min_impurity_split=None,\n",
       "                       min_samples_leaf=1, min_samples_split=2,\n",
       "                       min_weight_fraction_leaf=0.0, n_estimators=50,\n",
       "                       n_jobs=None, oob_score=False, random_state=0, verbose=0,\n",
       "                       warm_start=False)"
      ]
     },
     "execution_count": 50,
     "metadata": {},
     "output_type": "execute_result"
    }
   ],
   "source": [
    "from sklearn.ensemble import RandomForestClassifier\n",
    "classifier_2=RandomForestClassifier(n_estimators=50, criterion=\"entropy\", random_state=0)\n",
    "classifier_2.fit(X_train,y_train)"
   ]
  },
  {
   "cell_type": "code",
   "execution_count": 51,
   "metadata": {},
   "outputs": [],
   "source": [
    "y_pred_3=classifier_2.predict(X_train)\n",
    "y_pred_4=classifier_2.predict(X_test)"
   ]
  },
  {
   "cell_type": "code",
   "execution_count": 52,
   "metadata": {},
   "outputs": [],
   "source": [
    "cm_3 = confusion_matrix(y_train,y_pred_3)\n",
    "cm_4 = confusion_matrix(y_test,y_pred_4)\n",
    "\n"
   ]
  },
  {
   "cell_type": "code",
   "execution_count": 53,
   "metadata": {},
   "outputs": [
    {
     "data": {
      "text/plain": [
       "array([[189,   0],\n",
       "       [  0, 111]])"
      ]
     },
     "execution_count": 53,
     "metadata": {},
     "output_type": "execute_result"
    }
   ],
   "source": [
    "cm_3"
   ]
  },
  {
   "cell_type": "code",
   "execution_count": 49,
   "metadata": {},
   "outputs": [
    {
     "data": {
      "text/plain": [
       "array([[64,  4],\n",
       "       [ 3, 29]])"
      ]
     },
     "execution_count": 49,
     "metadata": {},
     "output_type": "execute_result"
    }
   ],
   "source": [
    "cm_4"
   ]
  },
  {
   "cell_type": "code",
   "execution_count": 60,
   "metadata": {},
   "outputs": [
    {
     "name": "stderr",
     "output_type": "stream",
     "text": [
      "'c' argument looks like a single numeric RGB or RGBA sequence, which should be avoided as value-mapping will have precedence in case its length matches with 'x' & 'y'.  Please use a 2-D array with a single row if you really want to specify the same RGB or RGBA value for all points.\n",
      "'c' argument looks like a single numeric RGB or RGBA sequence, which should be avoided as value-mapping will have precedence in case its length matches with 'x' & 'y'.  Please use a 2-D array with a single row if you really want to specify the same RGB or RGBA value for all points.\n"
     ]
    },
    {
     "data": {
      "image/png": "[encoded data removed]",
      "text/plain": [
       "<Figure size 576x504 with 1 Axes>"
      ]
     },
     "metadata": {},
     "output_type": "display_data"
    }
   ],
   "source": [
    "X_set, y_set = X_train, y_train\n",
    "X1, X2 = np.meshgrid(np.arange(start = X_set[:, 0].min() - 1, stop = X_set[:, 0].max() + 1, step = 0.5),\n",
    "                     np.arange(start = X_set[:, 1].min() - 1, stop = X_set[:, 1].max() + 1, step = 0.5))\n",
    "plt.contourf(X1, X2, classifier_2.predict(np.array([X1.ravel(), X2.ravel()]).T).reshape(X1.shape),\n",
    "             alpha = 0.5, cmap = ListedColormap(('red', 'green')))\n",
    "plt.xlim(X1.min(), X1.max())\n",
    "plt.ylim(X2.min(), X2.max())\n",
    "for i, j in enumerate(np.unique(y_set)):\n",
    "    plt.scatter(X_set[y_set == j, 0], X_set[y_set == j, 1],\n",
    "                c = ListedColormap(('red', 'green'))(i), label = j)\n",
    "plt.title('Random Forest (Conjunto de Entrenamiento)')\n",
    "plt.xlabel('Edad')\n",
    "\n",
    "plt.ylabel('Sueldo Estimado')\n",
    "plt.legend()\n",
    "plt.show()"
   ]
  },
  {
   "cell_type": "code",
   "execution_count": 61,
   "metadata": {},
   "outputs": [
    {
     "name": "stderr",
     "output_type": "stream",
     "text": [
      "'c' argument looks like a single numeric RGB or RGBA sequence, which should be avoided as value-mapping will have precedence in case its length matches with 'x' & 'y'.  Please use a 2-D array with a single row if you really want to specify the same RGB or RGBA value for all points.\n",
      "'c' argument looks like a single numeric RGB or RGBA sequence, which should be avoided as value-mapping will have precedence in case its length matches with 'x' & 'y'.  Please use a 2-D array with a single row if you really want to specify the same RGB or RGBA value for all points.\n"
     ]
    },
    {
     "data": {
      "image/png": "[encoded data removed]",
      "text/plain": [
       "<Figure size 576x504 with 1 Axes>"
      ]
     },
     "metadata": {},
     "output_type": "display_data"
    }
   ],
   "source": [
    "X_set, y_set = X_test, y_test\n",
    "X1, X2 = np.meshgrid(np.arange(start = X_set[:, 0].min() - 1, stop = X_set[:, 0].max() + 1, step = 0.5),\n",
    "                     np.arange(start = X_set[:, 1].min() - 1, stop = X_set[:, 1].max() + 1, step = 0.5))\n",
    "plt.contourf(X1, X2, classifier_2.predict(np.array([X1.ravel(), X2.ravel()]).T).reshape(X1.shape),\n",
    "             alpha = 0.5, cmap = ListedColormap(('red', 'green')))\n",
    "plt.xlim(X1.min(), X1.max())\n",
    "plt.ylim(X2.min(), X2.max())\n",
    "for i, j in enumerate(np.unique(y_set)):\n",
    "    plt.scatter(X_set[y_set == j, 0], X_set[y_set == j, 1],\n",
    "                c = ListedColormap(('red', 'green'))(i), label = j)\n",
    "plt.title('Random Forest (Conjunto de Test)')\n",
    "plt.xlabel('Edad')\n",
    "plt.ylabel('Sueldo Estimado')\n",
    "plt.legend()\n",
    "plt.show()"
   ]
  },
  {
   "cell_type": "code",
   "execution_count": null,
   "metadata": {},
   "outputs": [],
   "source": []
  }
 ],
 "metadata": {
  "kernelspec": {
   "display_name": "Python 3",
   "language": "python",
   "name": "python3"
  },
  "language_info": {
   "codemirror_mode": {
    "name": "ipython",
    "version": 3
   },
   "file_extension": ".py",
   "mimetype": "text/x-python",
   "name": "python",
   "nbconvert_exporter": "python",
   "pygments_lexer": "ipython3",
   "version": "3.7.1"
  }
 },
 "nbformat": 4,
 "nbformat_minor": 4
}
